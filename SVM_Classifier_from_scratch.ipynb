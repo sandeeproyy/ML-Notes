{
  "nbformat": 4,
  "nbformat_minor": 0,
  "metadata": {
    "colab": {
      "provenance": [],
      "authorship_tag": "ABX9TyPWPw6wF7pDzznhAG+tCZEu",
      "include_colab_link": true
    },
    "kernelspec": {
      "name": "python3",
      "display_name": "Python 3"
    },
    "language_info": {
      "name": "python"
    }
  },
  "cells": [
    {
      "cell_type": "markdown",
      "metadata": {
        "id": "view-in-github",
        "colab_type": "text"
      },
      "source": [
        "<a href=\"https://colab.research.google.com/github/sandeeproyy/ML-Notes/blob/main/SVM_Classifier_from_scratch.ipynb\" target=\"_parent\"><img src=\"https://colab.research.google.com/assets/colab-badge.svg\" alt=\"Open In Colab\"/></a>"
      ]
    },
    {
      "cell_type": "code",
      "execution_count": null,
      "metadata": {
        "id": "Z26K_XzFFK7J"
      },
      "outputs": [],
      "source": [
        "import numpy as np"
      ]
    },
    {
      "cell_type": "code",
      "source": [
        "class SVM_classifier():\n",
        "\n",
        "  def __init__(self, learning_rate, n_iters, lambda_parameter):\n",
        "\n",
        "    self.learning_rate = learning_rate\n",
        "    self.n_iters = n_iters\n",
        "    self.lambda_parameter = lambda_parameter\n",
        "\n",
        "  def fit(self, X, Y):\n",
        "\n",
        "    self.m, self.n = X.shape  # m->no of datapoints, n->no of features\n",
        "\n",
        "    self.w = np.zeros(self.n)\n",
        "    self.b = 0\n",
        "    self.X = X\n",
        "    self.Y = Y\n",
        "\n",
        "    for i in range(self.n_iters):\n",
        "      self.update_weights()\n",
        "\n",
        "  def update_weights(self):\n",
        "\n",
        "    y_label = np.where(self.Y <= 0, -1, 1) # label encoding\n",
        "\n",
        "    # gradients (dw, db)\n",
        "    for index, x_i in enumerate(self.X):\n",
        "\n",
        "      condition = y_label[index] * (np.dot(x_i, self.w) - self.b) >= 1\n",
        "      if (condition == True):\n",
        "\n",
        "        dw = 2 * self.lambda_parameter * self.w\n",
        "        db = 0\n",
        "\n",
        "      else:\n",
        "\n",
        "        dw = 2 * self.lambda_parameter * self.w - np.dot(x_i, y_label[index])\n",
        "        db = y_label[index]\n",
        "\n",
        "      self.w = self.w - self.learning_rate * dw\n",
        "      self.b = self.b - self.learning_rate * db\n",
        "\n",
        "\n",
        "  def predict(self, X):\n",
        "\n",
        "    output = np.dot(X, self.w) - self.b  # equation of hyperplane\n",
        "\n",
        "    predicted_labels = np.sign(output)\n",
        "\n",
        "    y_hat = np.where(predicted_labels <= -1, 0, 1)\n",
        "\n",
        "    return y_hat()"
      ],
      "metadata": {
        "id": "CdXL2dZ0In7v"
      },
      "execution_count": null,
      "outputs": []
    }
  ]
}