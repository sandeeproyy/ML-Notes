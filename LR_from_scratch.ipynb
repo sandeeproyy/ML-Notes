{
  "nbformat": 4,
  "nbformat_minor": 0,
  "metadata": {
    "colab": {
      "provenance": [],
      "authorship_tag": "ABX9TyNFDfm3O9X57JWlmaxfSguU",
      "include_colab_link": true
    },
    "kernelspec": {
      "name": "python3",
      "display_name": "Python 3"
    },
    "language_info": {
      "name": "python"
    }
  },
  "cells": [
    {
      "cell_type": "markdown",
      "metadata": {
        "id": "view-in-github",
        "colab_type": "text"
      },
      "source": [
        "<a href=\"https://colab.research.google.com/github/sandeeproyy/ML-Notes/blob/main/LR_from_scratch.ipynb\" target=\"_parent\"><img src=\"https://colab.research.google.com/assets/colab-badge.svg\" alt=\"Open In Colab\"/></a>"
      ]
    },
    {
      "cell_type": "code",
      "execution_count": 1,
      "metadata": {
        "id": "ALvDYJ8cshXT"
      },
      "outputs": [],
      "source": [
        "import numpy as np"
      ]
    },
    {
      "cell_type": "code",
      "source": [
        "class Linear_Regression( ):\n",
        "\n",
        "  # intiating the parameters (learning rate & no of iterations)\n",
        "  def __init__(self, learning_rate, n_iters):\n",
        "\n",
        "    self.learning_rate = learning_rate\n",
        "    self.n_iters = n_iters\n",
        "\n",
        "\n",
        "  def fit(self, X, Y):\n",
        "\n",
        "    # no of training exaples and no of features\n",
        "    self.m, self.n = X.shape   # no of rows(n) and columns(m)\n",
        "\n",
        "    # initiating the weight and bias\n",
        "    self.w = np.zeros(self.n)\n",
        "    self.b = 0\n",
        "    self.X = X\n",
        "    self.Y = Y\n",
        "\n",
        "    # Implementing Gradient Descent\n",
        "\n",
        "    for i in range(self.n_iters):\n",
        "      self.update_weights()\n",
        "\n",
        "  def update_weights(self):\n",
        "\n",
        "    Y_prediction = self.predict(self.X)\n",
        "\n",
        "    # calculate gradients\n",
        "\n",
        "    dw = - (2 * (self.X.T).dot(self.Y - Y_prediction)) / self.m\n",
        "    db = - 2 * np.sum(self.Y - Y_prediction) / self.m\n",
        "\n",
        "    # updating the weights\n",
        "\n",
        "    self.w = self.w - self.learning_rate * dw\n",
        "    self.b = self.b - self.learning_rate * db\n",
        "\n",
        "  def predict(self, X):\n",
        "\n",
        "    return X.dot(self.w) + self.b"
      ],
      "metadata": {
        "id": "B1coc7DPs0W_"
      },
      "execution_count": 2,
      "outputs": []
    }
  ]
}