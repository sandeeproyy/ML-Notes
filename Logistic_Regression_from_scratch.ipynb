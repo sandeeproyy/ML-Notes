{
  "nbformat": 4,
  "nbformat_minor": 0,
  "metadata": {
    "colab": {
      "provenance": [],
      "authorship_tag": "ABX9TyNIudlHs5HQsCrPmzpEI6T+",
      "include_colab_link": true
    },
    "kernelspec": {
      "name": "python3",
      "display_name": "Python 3"
    },
    "language_info": {
      "name": "python"
    }
  },
  "cells": [
    {
      "cell_type": "markdown",
      "metadata": {
        "id": "view-in-github",
        "colab_type": "text"
      },
      "source": [
        "<a href=\"https://colab.research.google.com/github/sandeeproyy/ML-Notes/blob/main/Logistic_Regression_from_scratch.ipynb\" target=\"_parent\"><img src=\"https://colab.research.google.com/assets/colab-badge.svg\" alt=\"Open In Colab\"/></a>"
      ]
    },
    {
      "cell_type": "code",
      "execution_count": null,
      "metadata": {
        "id": "wIdCTQg5oZNL"
      },
      "outputs": [],
      "source": [
        "# import the dependencies\n",
        "import numpy as np"
      ]
    },
    {
      "cell_type": "code",
      "source": [
        "class Logistic_Regression():\n",
        "\n",
        "  def  __init__(self, learning_rate, n_iters):\n",
        "\n",
        "    self.learning_rate = learning_rate\n",
        "    self.n_iters = n_iters\n",
        "\n",
        "  def fit(self, X, Y):\n",
        "\n",
        "    self.m, self.n = X.shape  # m -->no of rows, n--->no of colummns(features)\n",
        "\n",
        "    self.w = np.zeros(self.n)\n",
        "    self.b = 0\n",
        "    self.X = X\n",
        "    self.Y = Y\n",
        "\n",
        "    # gradient descent algo:\n",
        "    for i in range(n_iters):\n",
        "      self.update_weights()\n",
        "\n",
        "  def update_weights(self):\n",
        "\n",
        "    Y_hat = 1 / (1 + np.exp(-(self.X.dot(self.w) + self.b)))  #sigmoid function\n",
        "    dw = (1/self.m) * np.dot(self.X.T, (Y_hat - self.Y))\n",
        "    db = (1/self.m) * np.sum(Y_hat - self.Y)\n",
        "\n",
        "    self.w = self.w - self.learning_rate * dw\n",
        "    self.b = self.b - self.learning_rate * db\n",
        "\n",
        "\n",
        " # writing the sigmoid equation and decision boundary\n",
        "  def predict(self, X):\n",
        "\n",
        "    Y_pred = 1 / (1 + np.exp(-(self.X.dot(self.w) + self.b)))\n",
        "    Y_pred = np.where( Y_pred > 0.5, 1, 0)\n",
        "    return Y_pred"
      ],
      "metadata": {
        "id": "xruZhnYEzGNu"
      },
      "execution_count": null,
      "outputs": []
    }
  ]
}